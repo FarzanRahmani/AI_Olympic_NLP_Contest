{
 "cells": [
  {
   "cell_type": "code",
   "execution_count": 1,
   "id": "e09d1da3",
   "metadata": {},
   "outputs": [],
   "source": [
    "import pandas as pd\n",
    "\n",
    "df = pd.read_csv('NBA2000-2009.csv')\n",
    "df.head()"
   ]
  },
  {
   "cell_type": "code",
   "execution_count": 2,
   "id": "913358fc",
   "metadata": {},
   "outputs": [],
   "source": [
    "# double_double = #TODO\n",
    "\n",
    "df['REB'] = df['OREB'] + df['DREB']\n",
    "\n",
    "double_criteria = (df[['PTS', 'AST', 'REB', 'STL', 'BLK']] >= 10).sum(axis=1) >= 2\n",
    "\n",
    "double_double = df[double_criteria][['PLAYER', 'YEAR', 'PTS', 'AST', 'REB', 'STL', 'BLK']]\n",
    "\n",
    "double_double = double_double.sort_values(by=['YEAR', 'PLAYER'])\n",
    "\n",
    "double_double.head()"
   ]
  },
  {
   "cell_type": "code",
   "execution_count": 3,
   "id": "e8df4829",
   "metadata": {},
   "outputs": [],
   "source": [
    "# best_player= #TODO\n",
    "\n",
    "df['Missed_FG'] = df['FGA'] - df['FGM']\n",
    "df['Missed_FT'] = df['FTA'] - df['FTM']\n",
    "\n",
    "df['Value'] = (df['PTS'] + df['OREB'] + df['DREB'] + df['AST'] + df['STL'] + df['BLK']) - (df['TOV'] + df['Missed_FG'] + df['Missed_FT'])\n",
    "\n",
    "best_player = df.groupby('PLAYER')['Value'].mean().reset_index()\n",
    "\n",
    "best_player['Value'] = best_player['Value'].round(2)\n",
    "best_player = best_player.sort_values(by=['Value', 'PLAYER'], ascending=[False, True])\n",
    "\n",
    "best_player.head()"
   ]
  },
  {
   "cell_type": "code",
   "execution_count": 4,
   "id": "16148845",
   "metadata": {},
   "outputs": [],
   "source": [
    "# max_PTS_of_year = #TODO\n",
    "team_points = df.groupby(['YEAR', 'TEAM'])['PTS'].sum().reset_index()\n",
    "\n",
    "max_PTS_of_year = team_points.loc[team_points.groupby('YEAR')['PTS'].idxmax()]\n",
    "\n",
    "max_PTS_of_year['PTS'] = max_PTS_of_year['PTS'].round(2)\n",
    "max_PTS_of_year = max_PTS_of_year.sort_values(by='YEAR')\n",
    "\n",
    "max_PTS_of_year.head()"
   ]
  }
 ],
 "metadata": {},
 "nbformat": 4,
 "nbformat_minor": 5
}
