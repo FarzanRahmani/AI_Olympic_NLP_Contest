{
 "cells": [
  {
   "cell_type": "code",
   "execution_count": 1,
   "id": "8dd16511",
   "metadata": {},
   "outputs": [],
   "source": [
    "import pandas as pd\n",
    "import numpy as np \n",
    "\n",
    "import pandas as pd\n",
    "import numpy as np\n",
    "import torch\n",
    "from torch.utils.data import Dataset, DataLoader\n",
    "from transformers import XLMRobertaTokenizer, XLMRobertaForSequenceClassification, AdamW\n",
    "from sklearn.model_selection import train_test_split\n",
    "from sklearn.metrics import f1_score\n",
    "from tqdm import tqdm"
   ]
  },
  {
   "cell_type": "code",
   "execution_count": 2,
   "id": "b3983222",
   "metadata": {},
   "outputs": [],
   "source": [
    "train_data = pd.read_csv('directory to train.csv file.') \n",
    "train_data"
   ]
  },
  {
   "cell_type": "code",
   "execution_count": 3,
   "id": "3e8bab63",
   "metadata": {},
   "outputs": [],
   "source": [
    "test_data = pd.read_csv('directory to test.csv file.')\n",
    "test_data"
   ]
  },
  {
   "cell_type": "code",
   "execution_count": 4,
   "id": "6f4118f4",
   "metadata": {},
   "outputs": [],
   "source": [
    "train_data = pd.read_csv('train.csv')\n",
    "train_data"
   ]
  },
  {
   "cell_type": "code",
   "execution_count": 5,
   "id": "ed075d8c",
   "metadata": {},
   "outputs": [],
   "source": [
    "test_data = pd.read_csv('test.csv')\n",
    "test_data"
   ]
  },
  {
   "cell_type": "code",
   "execution_count": 6,
   "id": "995b3bf4",
   "metadata": {},
   "outputs": [],
   "source": [
    "label_columns = ['Thriller', 'Classics', 'Romance', 'Mystery', 'Science', 'Literature', 'Fantasy', 'Historical', 'Fiction']\n",
    "label_columns"
   ]
  },
  {
   "cell_type": "code",
   "execution_count": 7,
   "id": "cbf6f03c",
   "metadata": {},
   "outputs": [],
   "source": [
    "class BookDataset(Dataset):\n",
    "    def __init__(self, dataframe, tokenizer, max_len):\n",
    "        self.tokenizer = tokenizer\n",
    "        self.data = dataframe\n",
    "        self.max_len = max_len\n",
    "        self.title = dataframe['title']\n",
    "        self.description = dataframe['description']\n",
    "        self.targets = self.data[label_columns].values\n",
    "\n",
    "    def __len__(self):\n",
    "        return len(self.description)\n",
    "\n",
    "    def __getitem__(self, index):\n",
    "        title = str(self.title[index])\n",
    "        description = str(self.description[index])\n",
    "        text = title + \" \" + description\n",
    "        inputs = self.tokenizer.encode_plus(\n",
    "            text,\n",
    "            None,\n",
    "            add_special_tokens=True,\n",
    "            max_length=self.max_len,\n",
    "            padding='max_length',\n",
    "            return_token_type_ids=True,\n",
    "            truncation=True\n",
    "        )\n",
    "        ids = inputs['input_ids']\n",
    "        mask = inputs['attention_mask']\n",
    "\n",
    "        return {\n",
    "            'ids': torch.tensor(ids, dtype=torch.long),\n",
    "            'mask': torch.tensor(mask, dtype=torch.long),\n",
    "            'targets': torch.tensor(self.targets[index], dtype=torch.float)\n",
    "        }"
   ]
  },
  {
   "cell_type": "code",
   "execution_count": 8,
   "id": "4188d771",
   "metadata": {},
   "outputs": [],
   "source": [
    "# modeling \n",
    "tokenizer = XLMRobertaTokenizer.from_pretrained('xlm-roberta-base')\n",
    "model = XLMRobertaForSequenceClassification.from_pretrained('xlm-roberta-base', num_labels=len(label_columns))"
   ]
  },
  {
   "cell_type": "code",
   "execution_count": 9,
   "id": "02b4f56f",
   "metadata": {},
   "outputs": [],
   "source": [
    "device = torch.device('cuda' if torch.cuda.is_available() else 'cpu')\n",
    "model.to(device)"
   ]
  },
  {
   "cell_type": "code",
   "execution_count": 10,
   "id": "7064c0f9",
   "metadata": {},
   "outputs": [],
   "source": [
    "MAX_LEN = 256\n",
    "TRAIN_BATCH_SIZE = 16\n",
    "VALID_BATCH_SIZE = 32\n",
    "EPOCHS = 3\n",
    "LEARNING_RATE = 2e-5"
   ]
  },
  {
   "cell_type": "code",
   "execution_count": 11,
   "id": "3245d20c",
   "metadata": {},
   "outputs": [],
   "source": [
    "train_dataset = BookDataset(train_data, tokenizer, MAX_LEN)\n",
    "train_size = int(0.9 * len(train_dataset))\n",
    "valid_size = len(train_dataset) - train_size\n",
    "train_dataset, valid_dataset = torch.utils.data.random_split(train_dataset, [train_size, valid_size])\n",
    "train_dataset"
   ]
  },
  {
   "cell_type": "code",
   "execution_count": 12,
   "id": "1ee498dc",
   "metadata": {},
   "outputs": [],
   "source": [
    "train_loader = DataLoader(train_dataset, batch_size=TRAIN_BATCH_SIZE, shuffle=True, num_workers=2)\n",
    "valid_loader = DataLoader(valid_dataset, batch_size=VALID_BATCH_SIZE, shuffle=False, num_workers=1)\n",
    "train_loader"
   ]
  },
  {
   "cell_type": "code",
   "execution_count": 13,
   "id": "0b672f34",
   "metadata": {},
   "outputs": [],
   "source": [
    "def train_model(model, train_loader, optimizer, device):\n",
    "    model.train()\n",
    "    for batch in tqdm(train_loader, total=len(train_loader)):\n",
    "        ids = batch['ids'].to(device)\n",
    "        mask = batch['mask'].to(device)\n",
    "        targets = batch['targets'].to(device)\n",
    "\n",
    "        outputs = model(input_ids=ids, attention_mask=mask, labels=targets)\n",
    "        loss = outputs.loss\n",
    "\n",
    "        optimizer.zero_grad()\n",
    "        loss.backward()\n",
    "        optimizer.step()\n",
    "\n",
    "def evaluate_model(model, data_loader, device):\n",
    "    model.eval()\n",
    "    fin_targets = []\n",
    "    fin_outputs = []\n",
    "    with torch.no_grad():\n",
    "        for batch in tqdm(data_loader, total=len(data_loader)):\n",
    "            ids = batch['ids'].to(device)\n",
    "            mask = batch['mask'].to(device)\n",
    "            targets = batch['targets'].to(device)\n",
    "\n",
    "            outputs = model(input_ids=ids, attention_mask=mask)\n",
    "            fin_targets.extend(targets.cpu().detach().numpy().tolist())\n",
    "            fin_outputs.extend(torch.sigmoid(outputs.logits).cpu().detach().numpy().tolist())\n",
    "    return fin_outputs, fin_targets"
   ]
  },
  {
   "cell_type": "code",
   "execution_count": 14,
   "id": "f07a7b2a",
   "metadata": {},
   "outputs": [],
   "source": [
    "optimizer = AdamW(model.parameters(), lr=LEARNING_RATE)\n",
    "\n",
    "for epoch in range(EPOCHS):\n",
    "    print(f'Epoch {epoch + 1}/{EPOCHS}')\n",
    "    train_model(model, train_loader, optimizer, device)\n",
    "    \n",
    "    outputs, targets = evaluate_model(model, valid_loader, device)\n",
    "    outputs = np.array(outputs) >= 0.5\n",
    "    accuracy = f1_score(targets, outputs, average='micro')\n",
    "    print(f'Validation F1-Score = {accuracy}')"
   ]
  },
  {
   "cell_type": "code",
   "execution_count": 15,
   "id": "03582007",
   "metadata": {},
   "outputs": [],
   "source": [
    "test_dataset = BookDataset(test_data, tokenizer, MAX_LEN)\n",
    "test_loader = DataLoader(test_dataset, batch_size=VALID_BATCH_SIZE, shuffle=False, num_workers=1)\n",
    "\n",
    "test_outputs, _ = evaluate_model(model, test_loader, device)\n",
    "test_outputs = np.array(test_outputs) >= 0.5"
   ]
  },
  {
   "cell_type": "code",
   "execution_count": 16,
   "id": "6a592c25",
   "metadata": {},
   "outputs": [],
   "source": [
    "class BookDataset(Dataset):\n",
    "    def __init__(self, dataframe, tokenizer, max_len, is_test=False):\n",
    "        self.tokenizer = tokenizer\n",
    "        self.data = dataframe\n",
    "        self.max_len = max_len\n",
    "        self.title = dataframe['title']\n",
    "        self.description = dataframe['description']\n",
    "        self.is_test = is_test\n",
    "        if not self.is_test:\n",
    "            self.targets = self.data[label_columns].values\n",
    "\n",
    "    def __len__(self):\n",
    "        return len(self.description)\n",
    "\n",
    "    def __getitem__(self, index):\n",
    "        title = str(self.title[index])\n",
    "        description = str(self.description[index])\n",
    "        text = title + \" \" + description\n",
    "        inputs = self.tokenizer.encode_plus(\n",
    "            text,\n",
    "            None,\n",
    "            add_special_tokens=True,\n",
    "            max_length=self.max_len,\n",
    "            padding='max_length',\n",
    "            return_token_type_ids=True,\n",
    "            truncation=True\n",
    "        )\n",
    "        ids = inputs['input_ids']\n",
    "        mask = inputs['attention_mask']\n",
    "\n",
    "        if self.is_test:\n",
    "            return {\n",
    "                'ids': torch.tensor(ids, dtype=torch.long),\n",
    "                'mask': torch.tensor(mask, dtype=torch.long)\n",
    "            }\n",
    "        else:\n",
    "            return {\n",
    "                'ids': torch.tensor(ids, dtype=torch.long),\n",
    "                'mask': torch.tensor(mask, dtype=torch.long),\n",
    "                'targets': torch.tensor(self.targets[index], dtype=torch.float)\n",
    "            }"
   ]
  },
  {
   "cell_type": "code",
   "execution_count": 17,
   "id": "495207d0",
   "metadata": {},
   "outputs": [],
   "source": [
    "test_dataset = BookDataset(test_data, tokenizer, MAX_LEN, is_test=True)\n",
    "test_loader = DataLoader(test_dataset, batch_size=VALID_BATCH_SIZE, shuffle=False, num_workers=1)\n",
    "\n",
    "def predict_test(model, data_loader, device):\n",
    "    model.eval()\n",
    "    fin_outputs = []\n",
    "    with torch.no_grad():\n",
    "        for batch in tqdm(data_loader, total=len(data_loader)):\n",
    "            ids = batch['ids'].to(device)\n",
    "            mask = batch['mask'].to(device)\n",
    "\n",
    "            outputs = model(input_ids=ids, attention_mask=mask)\n",
    "            fin_outputs.extend(torch.sigmoid(outputs.logits).cpu().detach().numpy().tolist())\n",
    "    return fin_outputs\n",
    "\n",
    "test_outputs = predict_test(model, test_loader, device)\n",
    "test_outputs = np.array(test_outputs) >= 0.5"
   ]
  },
  {
   "cell_type": "code",
   "execution_count": 18,
   "id": "adb2065d",
   "metadata": {},
   "outputs": [],
   "source": [
    "# evaluate model\n",
    "from sklearn.metrics import  f1_score, classification_report, confusion_matrix\n",
    "print(f'Validation F1-Score = {accuracy}')"
   ]
  },
  {
   "cell_type": "code",
   "execution_count": 19,
   "id": "7c092be6",
   "metadata": {},
   "outputs": [],
   "source": [
    "# predict test samples\n",
    "# submission = pd.DataFrame()\n",
    "# submission\n",
    "\n",
    "submission = pd.DataFrame(test_outputs, columns=label_columns)\n",
    "submission.to_csv('submission.csv', index=False)"
   ]
  },
  {
   "cell_type": "code",
   "execution_count": 20,
   "id": "a439ed32",
   "metadata": {},
   "outputs": [],
   "source": [
    "import zipfile\n",
    "import joblib\n",
    "import os\n",
    "\n",
    "def compress(file_names):\n",
    "    print(\"File Paths:\")\n",
    "    print(file_names)\n",
    "    compression = zipfile.ZIP_DEFLATED\n",
    "    with zipfile.ZipFile(\"result.zip\", mode=\"w\") as zf:\n",
    "        for file_name in file_names:\n",
    "            zf.write('./' + file_name, file_name, compress_type=compression)\n",
    "            \n",
    "submission.to_csv('submission.csv', index=False)\n",
    "file_names = ['Babel.ipynb', 'submission.csv']\n",
    "compress(file_names)"
   ]
  }
 ],
 "metadata": {},
 "nbformat": 4,
 "nbformat_minor": 5
}
