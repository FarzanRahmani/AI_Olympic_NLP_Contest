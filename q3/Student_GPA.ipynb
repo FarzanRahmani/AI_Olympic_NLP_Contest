{
 "cells": [
  {
   "cell_type": "code",
   "execution_count": 1,
   "id": "189c10e2",
   "metadata": {},
   "outputs": [],
   "source": [
    "import pandas as pd\n",
    "import numpy as np"
   ]
  },
  {
   "cell_type": "code",
   "execution_count": 2,
   "id": "9ed0d48f",
   "metadata": {},
   "outputs": [],
   "source": [
    "# Reading/Loading the dataset files\n",
    "# TODO\n",
    "train_data = pd.read_csv('data/train.csv')\n",
    "test_data = pd.read_csv('data/test.csv')\n",
    "\n",
    "train_data.head()"
   ]
  },
  {
   "cell_type": "code",
   "execution_count": 3,
   "id": "60222f52",
   "metadata": {},
   "outputs": [],
   "source": [
    "# Reading/Loading the dataset files\n",
    "# TODO\n",
    "train_data = pd.read_csv('train.csv')\n",
    "test_data = pd.read_csv('test.csv')\n",
    "\n",
    "train_data.head()"
   ]
  },
  {
   "cell_type": "code",
   "execution_count": 4,
   "id": "3bd45e3b",
   "metadata": {},
   "outputs": [],
   "source": [
    "# Preprocessing step\n",
    "# TODO\n",
    "\n",
    "train_data.fillna(train_data.mean(), inplace=True)\n",
    "test_data.fillna(test_data.mean(), inplace=True)\n",
    "\n",
    "train_data = pd.get_dummies(train_data, columns=['ParentalSupport', 'Ethnicity', 'ParentalEducation'])\n",
    "test_data = pd.get_dummies(test_data, columns=['ParentalSupport', 'Ethnicity', 'ParentalEducation'])\n",
    "\n",
    "test_data = test_data.reindex(columns=train_data.columns, fill_value=0)\n",
    "\n",
    "train_data.drop(columns=['StudentID'], inplace=True)\n",
    "test_data.drop(columns=['StudentID'], inplace=True)\n",
    "\n",
    "X_train = train_data.drop(columns=['GPA'])\n",
    "y_train = train_data['GPA']\n",
    "\n",
    "# Scaling\n",
    "from sklearn.preprocessing import StandardScaler\n",
    "scaler = StandardScaler()\n",
    "\n",
    "X_train_scaled = scaler.fit_transform(X_train)\n",
    "X_test_scaled = scaler.transform(test_data)"
   ]
  },
  {
   "cell_type": "code",
   "execution_count": 5,
   "id": "ee2c38cc",
   "metadata": {},
   "outputs": [],
   "source": [
    "# Preprocessing step\n",
    "# TODO\n",
    "\n",
    "numeric_columns = train_data.select_dtypes(include=['float64', 'int64']).columns\n",
    "\n",
    "train_data[numeric_columns] = train_data[numeric_columns].fillna(train_data[numeric_columns].mean())\n",
    "test_data[numeric_columns] = test_data[numeric_columns].fillna(test_data[numeric_columns].mean())\n",
    "\n",
    "train_data = pd.get_dummies(train_data, columns=['ParentalSupport', 'Ethnicity', 'ParentalEducation'])\n",
    "test_data = pd.get_dummies(test_data, columns=['ParentalSupport', 'Ethnicity', 'ParentalEducation'])\n",
    "\n",
    "test_data = test_data.reindex(columns=train_data.columns, fill_value=0)\n",
    "\n",
    "train_data.drop(columns=['StudentID'], inplace=True)\n",
    "test_data.drop(columns=['StudentID'], inplace=True)\n",
    "\n",
    "X_train = train_data.drop(columns=['GPA'])\n",
    "y_train = train_data['GPA']\n",
    "\n",
    "# Scaling\n",
    "from sklearn.preprocessing import StandardScaler\n",
    "scaler = StandardScaler()\n",
    "\n",
    "X_train_scaled = scaler.fit_transform(X_train)\n",
    "X_test_scaled = scaler.transform(test_data)"
   ]
  },
  {
   "cell_type": "code",
   "execution_count": 6,
   "id": "890c1ff7",
   "metadata": {},
   "outputs": [],
   "source": [
    "# Preprocessing step\n",
    "# TODO\n",
    "\n",
    "numeric_columns = train_data.select_dtypes(include=['float64', 'int64']).columns\n",
    "train_data[numeric_columns] = train_data[numeric_columns].fillna(train_data[numeric_columns].mean())\n",
    "numeric_columns = test_data.select_dtypes(include=['float64', 'int64']).columns\n",
    "test_data[numeric_columns] = test_data[numeric_columns].fillna(test_data[numeric_columns].mean())\n",
    "\n",
    "train_data = pd.get_dummies(train_data, columns=['ParentalSupport', 'Ethnicity', 'ParentalEducation'])\n",
    "test_data = pd.get_dummies(test_data, columns=['ParentalSupport', 'Ethnicity', 'ParentalEducation'])\n",
    "\n",
    "test_data = test_data.reindex(columns=train_data.columns, fill_value=0)\n",
    "\n",
    "train_data.drop(columns=['StudentID'], inplace=True)\n",
    "test_data.drop(columns=['StudentID'], inplace=True)\n",
    "\n",
    "X_train = train_data.drop(columns=['GPA'])\n",
    "y_train = train_data['GPA']\n",
    "\n",
    "# Scaling\n",
    "from sklearn.preprocessing import StandardScaler\n",
    "scaler = StandardScaler()\n",
    "\n",
    "X_train_scaled = scaler.fit_transform(X_train)\n",
    "X_test_scaled = scaler.transform(test_data)"
   ]
  },
  {
   "cell_type": "code",
   "execution_count": 7,
   "id": "41f6d980",
   "metadata": {},
   "outputs": [],
   "source": [
    "X_train"
   ]
  },
  {
   "cell_type": "code",
   "execution_count": 8,
   "id": "fac63321",
   "metadata": {},
   "outputs": [],
   "source": [
    "# Preprocessing step\n",
    "# TODO\n",
    "numeric_columns = train_data.select_dtypes(include=['float64', 'int64']).columns\n",
    "train_data[numeric_columns] = train_data[numeric_columns].fillna(train_data[numeric_columns].mean())\n",
    "\n",
    "numeric_columns = test_data.select_dtypes(include=['float64', 'int64']).columns\n",
    "test_data[numeric_columns] = test_data[numeric_columns].fillna(test_data[numeric_columns].mean())\n",
    "\n",
    "train_data = pd.get_dummies(train_data, columns=['ParentalSupport', 'Ethnicity', 'ParentalEducation'])\n",
    "test_data = pd.get_dummies(test_data, columns=['ParentalSupport', 'Ethnicity', 'ParentalEducation'])\n",
    "\n",
    "# test_data = test_data.reindex(columns=train_data.columns, fill_value=0)\n",
    "\n",
    "train_data.drop(columns=['StudentID'], inplace=True)\n",
    "test_data.drop(columns=['StudentID'], inplace=True)\n",
    "\n",
    "X_train = train_data.drop(columns=['GPA'])\n",
    "y_train = train_data['GPA']\n",
    "\n",
    "# Scaling\n",
    "from sklearn.preprocessing import StandardScaler\n",
    "scaler = StandardScaler()\n",
    "\n",
    "X_train_scaled = scaler.fit_transform(X_train)\n",
    "X_test_scaled = scaler.transform(test_data)"
   ]
  },
  {
   "cell_type": "code",
   "execution_count": 9,
   "id": "c0c98957",
   "metadata": {},
   "outputs": [],
   "source": [
    "# Reading/Loading the dataset files\n",
    "# TODO\n",
    "train_data = pd.read_csv('train.csv')\n",
    "test_data = pd.read_csv('test.csv')\n",
    "\n",
    "train_data.head()"
   ]
  },
  {
   "cell_type": "code",
   "execution_count": 10,
   "id": "9a91b2a9",
   "metadata": {},
   "outputs": [],
   "source": [
    "test_data.head()"
   ]
  },
  {
   "cell_type": "code",
   "execution_count": 11,
   "id": "0fa0545d",
   "metadata": {},
   "outputs": [],
   "source": [
    "# Preprocessing step\n",
    "# TODO\n",
    "numeric_columns = train_data.select_dtypes(include=['float64', 'int64']).columns\n",
    "train_data[numeric_columns] = train_data[numeric_columns].fillna(train_data[numeric_columns].mean())\n",
    "\n",
    "numeric_columns = test_data.select_dtypes(include=['float64', 'int64']).columns\n",
    "test_data[numeric_columns] = test_data[numeric_columns].fillna(test_data[numeric_columns].mean())\n",
    "\n",
    "train_data = pd.get_dummies(train_data, columns=['ParentalSupport', 'Ethnicity', 'ParentalEducation'])\n",
    "test_data = pd.get_dummies(test_data, columns=['ParentalSupport', 'Ethnicity', 'ParentalEducation'])\n",
    "\n",
    "# test_data = test_data.reindex(columns=train_data.columns, fill_value=0)\n",
    "\n",
    "train_data.drop(columns=['StudentID'], inplace=True)\n",
    "test_data.drop(columns=['StudentID'], inplace=True)\n",
    "\n",
    "X_train = train_data.drop(columns=['GPA'])\n",
    "y_train = train_data['GPA']\n",
    "\n",
    "# Scaling\n",
    "from sklearn.preprocessing import StandardScaler\n",
    "scaler = StandardScaler()\n",
    "\n",
    "X_train_scaled = scaler.fit_transform(X_train)\n",
    "X_test_scaled = scaler.transform(test_data)"
   ]
  },
  {
   "cell_type": "code",
   "execution_count": 12,
   "id": "80716a67",
   "metadata": {},
   "outputs": [],
   "source": [
    "X_train_scaled"
   ]
  },
  {
   "cell_type": "code",
   "execution_count": 13,
   "id": "9243a31c",
   "metadata": {},
   "outputs": [],
   "source": [
    "X_train_scaled[0]"
   ]
  },
  {
   "cell_type": "code",
   "execution_count": 14,
   "id": "9b1e881d",
   "metadata": {},
   "outputs": [],
   "source": [
    "from sklearn.model_selection import train_test_split\n",
    "\n",
    "X_train_split, X_val_split, y_train_split, y_val_split = train_test_split(X_train_scaled, y_train, test_size=0.1, random_state=42)"
   ]
  },
  {
   "cell_type": "code",
   "execution_count": 15,
   "id": "041b54d9",
   "metadata": {},
   "outputs": [],
   "source": [
    "# Model design\n",
    "# TODO\n",
    "\n",
    "from sklearn.linear_model import LinearRegression\n",
    "from sklearn.ensemble import RandomForestRegressor\n",
    "from sklearn.metrics import r2_score\n",
    "\n",
    "model = RandomForestRegressor(n_estimators=100, random_state=42)\n",
    "model.fit(X_train_split, y_train_split)\n",
    "\n",
    "y_val_pred = model.predict(X_val_split)\n",
    "\n",
    "val_score = r2_score(y_val_split, y_val_pred)\n",
    "print(f\"Validation R2 score: {val_score}\")"
   ]
  },
  {
   "cell_type": "code",
   "execution_count": 16,
   "id": "4f3412d5",
   "metadata": {},
   "outputs": [],
   "source": [
    "# evaluate your model\n",
    "from sklearn.metrics import r2_score\n",
    "\n",
    "# To-Do\n",
    "y_val_pred = model.predict(X_val_split)\n",
    "\n",
    "val_score = r2_score(y_val_split, y_val_pred)\n",
    "print(f\"Validation R2 score: {val_score}\")"
   ]
  },
  {
   "cell_type": "code",
   "execution_count": 17,
   "id": "f41961e1",
   "metadata": {},
   "outputs": [],
   "source": [
    "# To-Do\n",
    "# submission =\n",
    "\n",
    "y_test_pred = model.predict(X_test_scaled)\n",
    "\n",
    "submission = pd.DataFrame({'GPA': y_test_pred})\n",
    "\n",
    "submission.to_csv('submission.csv', index=False)"
   ]
  },
  {
   "cell_type": "code",
   "execution_count": 18,
   "id": "1c2660b1",
   "metadata": {},
   "outputs": [],
   "source": [
    "submission"
   ]
  },
  {
   "cell_type": "code",
   "execution_count": 19,
   "id": "0a1698ee",
   "metadata": {},
   "outputs": [],
   "source": [
    "import zipfile\n",
    "\n",
    "if not os.path.exists(os.path.join(os.getcwd(), 'Student_GPA.ipynb')):\n",
    "    %notebook -e Student_GPA.ipynb\n",
    "\n",
    "def compress(file_names):\n",
    "    print(\"File Paths:\")\n",
    "    print(file_names)\n",
    "    compression = zipfile.ZIP_DEFLATED\n",
    "    with zipfile.ZipFile(\"result.zip\", mode=\"w\") as zf:\n",
    "        for file_name in file_names:\n",
    "            zf.write('./' + file_name, file_name, compress_type=compression)\n",
    "\n",
    "submission.to_csv('submission.csv', index=False)\n",
    "\n",
    "file_names = ['Student_GPA.ipynb', 'submission.csv']\n",
    "compress(file_names)"
   ]
  }
 ],
 "metadata": {},
 "nbformat": 4,
 "nbformat_minor": 5
}
